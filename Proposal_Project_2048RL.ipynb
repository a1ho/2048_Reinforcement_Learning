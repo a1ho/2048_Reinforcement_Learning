{
 "cells": [
  {
   "cell_type": "markdown",
   "metadata": {},
   "source": [
    "# COGS 188 - Project Proposal"
   ]
  },
  {
   "cell_type": "markdown",
   "metadata": {},
   "source": [
    "# Names\n",
    "\n",
    "- Ashley Ho\n",
    "- Mizuho Fukuda"
   ]
  },
  {
   "cell_type": "markdown",
   "metadata": {},
   "source": [
    "# Abstract \n",
    "This section should be short and clearly stated. It should be a single paragraph <200 words.  It should summarize: \n",
    "- what your goal/problem is\n",
    "- what the data used represents and how they are measured\n",
    "- what you will be doing with the data\n",
    "- how performance/success will be measured"
   ]
  },
  {
   "cell_type": "markdown",
   "metadata": {},
   "source": [
    "# Background"
   ]
  },
  {
   "cell_type": "markdown",
   "metadata": {},
   "source": [
    "# Problem Statement\n",
    "\n",
    "This project attempts to solve the game 2048 using reinforcement learning algorithms. The objective for the model is to achieve as high of a tile as possible without losing the game (i.e. getting a full grid with no allowable moves). The game can quantified as a $4x4$ matrix, with a fixed set of actions available at each state. The performance of the model can be measured by the score at the end of the game, which is accumulated at each move by adding the merged tile values. In addition, the setup of this game is replicable due to based on its stochasticity and the clearly defined environment."
   ]
  },
  {
   "cell_type": "markdown",
   "metadata": {},
   "source": [
    "# Data\n",
    "\n",
    "You should have a strong idea of what dataset(s) will be used to accomplish this project. \n",
    "\n",
    "If you know what (some) of the data you will use, please give the following information for each dataset:\n",
    "- link/reference to obtain it\n",
    "- description of the size of the dataset (# of variables, # of observations)\n",
    "- what an observation consists of\n",
    "- what some critical variables are, how they are represented\n",
    "- any special handling, transformations, cleaning, etc will be needed\n",
    "\n",
    "If you don't yet know what your dataset(s) will be, you should describe what you desire in terms of the above bullets."
   ]
  },
  {
   "cell_type": "markdown",
   "metadata": {},
   "source": [
    "# Proposed Solution\n",
    "\n",
    "In this section, clearly describe a solution to the problem. The solution should be applicable to the project domain and appropriate for the dataset(s) or input(s) given. Provide enough detail (e.g., algorithmic description and/or theoretical properties) to convince us that your solution is applicable. Why might your solution work? Make sure to describe how the solution will be tested.  \n",
    "\n",
    "If you know details already, describe how (e.g., library used, function calls) you plan to implement the solution in a way that is reproducible.\n",
    "\n",
    "If it is appropriate to the problem statement, describe a benchmark model<a name=\"sota\"></a>[<sup>[3]</sup>](#sotanote) against which your solution will be compared. "
   ]
  },
  {
   "cell_type": "markdown",
   "metadata": {},
   "source": [
    "# Evaluation Metrics\n",
    "\n",
    "Propose at least one evaluation metric that can be used to quantify the performance of both the benchmark model and the solution model. The evaluation metric(s) you propose should be appropriate given the context of the data, the problem statement, and the intended solution. Describe how the evaluation metric(s) are derived and provide an example of their mathematical representations (if applicable). Complex evaluation metrics should be clearly defined and quantifiable (can be expressed in mathematical or logical terms).\n",
    "\n",
    "The main evaluation metric that we will utilize in this project is the average score of the games $S_{mean}$. The average score $S_{mean}$ for a total of $N$ games with $a_i$ actions each is defined as:\n",
    "    $$S_{mean} = \\frac{1}{N} \\sum_{i=1}^N S_i$$\n",
    "    $$\\text{where }S_i = \\sum_{k=1}^{a_i} \\text{merged tile values}$$\n",
    "In other words, the total score for a single game is calculated by summing the new tile values formed by merging at every action (according to the scoring formula given by 2048). The evaluation metric for a model is the average of this value over all $N$ simulated games.\n",
    "\n",
    "In addition to this metric, we will also observe the distribution of maximum tile value achieved by the model over $N$ games as a more intuitive measure of the quality of the model. Note that this metric is directly correlated with the score as defined above. However, this would still be a interesting statistic to observe since it is a more direct measure in relation to the objective of the game, which is to get as high of a number as possible. For example, if two players both end the game with a 2048 maximum tile, the results can be considered as equal in practice despite potential differences in total scores."
   ]
  },
  {
   "cell_type": "markdown",
   "metadata": {},
   "source": [
    "# Ethics & Privacy"
   ]
  },
  {
   "cell_type": "markdown",
   "metadata": {},
   "source": [
    "We anticipate minimal issues regarding ethics and privacy with this project. Since we will not be using any outside data, it will not infringe on any personal privacy. In addition, since 2048 is a single player game, even if the model is used to cheat on the game, it will not affect other players. The official 2048 game itself was created by Italian web developer Gabriele Cirulli and is a free and open-source software. Thus, for the purposes of this project, there is no risk of copyright infringement. Any outside sources that may be used in this project to simulate the game environment as well as for building the model will be clearly indicated and included in the reference section."
   ]
  },
  {
   "cell_type": "markdown",
   "metadata": {},
   "source": [
    "# Team Expectations "
   ]
  },
  {
   "cell_type": "markdown",
   "metadata": {},
   "source": [
    "* Divide the work evenly\n",
    "* Communicate regularly via Messages\n",
    "* Be prepared at every meeting\n",
    "* Ask for help if confused"
   ]
  },
  {
   "cell_type": "markdown",
   "metadata": {},
   "source": [
    "# Project Timeline Proposal"
   ]
  },
  {
   "cell_type": "markdown",
   "metadata": {},
   "source": [
    "| Meeting Date  | Meeting Time| Completed Before Meeting  | Discuss at Meeting |\n",
    "|---|---|---|---|\n",
    "| 5/16  |  11 AM |  Brainstorm topics/questions  | Decide topic and draft proposal | \n",
    "| 5/17  |  12 PM |  Finish individual writeup sections | Finalize and submit proposal | \n",
    "| 5/24  | 10 AM  | Read through feedback and think about code  | Figure out 2048 environment   |\n",
    "| 5/28  | 2 PM  | TBD (depends on what we get done in previous meeting) | Solidify game model  |\n",
    "| 5/30  | 12 PM  | N/A | Grid search/feature selection for best policy/reward function etc. |\n",
    "| 6/6  | 1 PM  | Finish individual writeup sections if necessary| Discuss/edit full project |\n",
    "| 6/12  | Before 11:59 PM  | NA | Turn in Final Project  |"
   ]
  },
  {
   "cell_type": "markdown",
   "metadata": {},
   "source": [
    "# Footnotes"
   ]
  },
  {
   "cell_type": "code",
   "execution_count": null,
   "metadata": {},
   "outputs": [],
   "source": []
  }
 ],
 "metadata": {
  "kernelspec": {
   "display_name": "Python 3 (ipykernel)",
   "language": "python",
   "name": "python3"
  },
  "language_info": {
   "codemirror_mode": {
    "name": "ipython",
    "version": 3
   },
   "file_extension": ".py",
   "mimetype": "text/x-python",
   "name": "python",
   "nbconvert_exporter": "python",
   "pygments_lexer": "ipython3",
   "version": "3.11.4"
  }
 },
 "nbformat": 4,
 "nbformat_minor": 2
}
