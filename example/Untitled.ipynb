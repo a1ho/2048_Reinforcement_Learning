{
 "cells": [
  {
   "cell_type": "code",
   "execution_count": 38,
   "id": "9e8c9005",
   "metadata": {},
   "outputs": [],
   "source": [
    "import numpy as np\n",
    "import random"
   ]
  },
  {
   "cell_type": "code",
   "execution_count": 39,
   "id": "d8d73c6f",
   "metadata": {},
   "outputs": [
    {
     "data": {
      "text/plain": [
       "True"
      ]
     },
     "execution_count": 39,
     "metadata": {},
     "output_type": "execute_result"
    }
   ],
   "source": [
    "a = np.array([[0,4],\n",
    "              [2,4]\n",
    "             ])\n",
    "b = np.array([[0,4],\n",
    "              [2,4]\n",
    "             ]).T.T\n",
    "np.array_equal(a, b)"
   ]
  },
  {
   "cell_type": "code",
   "execution_count": 40,
   "id": "83e93a17",
   "metadata": {},
   "outputs": [],
   "source": [
    "a = set([0,1,2,3])\n"
   ]
  },
  {
   "cell_type": "code",
   "execution_count": 33,
   "id": "05878e99",
   "metadata": {},
   "outputs": [],
   "source": [
    "a.remove(random.choice(list(a)))"
   ]
  },
  {
   "cell_type": "code",
   "execution_count": 42,
   "id": "0cc7da95",
   "metadata": {},
   "outputs": [
    {
     "data": {
      "text/plain": [
       "array([0, 2, 4, 4])"
      ]
     },
     "execution_count": 42,
     "metadata": {},
     "output_type": "execute_result"
    }
   ],
   "source": [
    "np.sort(b, axis=None)"
   ]
  },
  {
   "cell_type": "code",
   "execution_count": 47,
   "id": "3f9b4f13",
   "metadata": {},
   "outputs": [
    {
     "data": {
      "text/plain": [
       "3"
      ]
     },
     "execution_count": 47,
     "metadata": {},
     "output_type": "execute_result"
    }
   ],
   "source": [
    "np.count_nonzero(b)"
   ]
  },
  {
   "cell_type": "code",
   "execution_count": 50,
   "id": "a79920df",
   "metadata": {},
   "outputs": [],
   "source": [
    "c = b.flatten()"
   ]
  },
  {
   "cell_type": "code",
   "execution_count": 51,
   "id": "569d49ff",
   "metadata": {},
   "outputs": [
    {
     "data": {
      "text/plain": [
       "array([[0, 4],\n",
       "       [2, 4]])"
      ]
     },
     "execution_count": 51,
     "metadata": {},
     "output_type": "execute_result"
    }
   ],
   "source": [
    "c.reshape((2,2))"
   ]
  },
  {
   "cell_type": "code",
   "execution_count": 56,
   "id": "f3ea6a62",
   "metadata": {},
   "outputs": [
    {
     "data": {
      "text/plain": [
       "False"
      ]
     },
     "execution_count": 56,
     "metadata": {},
     "output_type": "execute_result"
    }
   ],
   "source": [
    "d = np.array([8, 8, 16, 0])\n",
    "np.count_nonzero(d) == len(np.unique(d[np.nonzero(d)]))"
   ]
  },
  {
   "cell_type": "code",
   "execution_count": null,
   "id": "407eefc3",
   "metadata": {},
   "outputs": [],
   "source": []
  }
 ],
 "metadata": {
  "kernelspec": {
   "display_name": "Python 3 (ipykernel)",
   "language": "python",
   "name": "python3"
  },
  "language_info": {
   "codemirror_mode": {
    "name": "ipython",
    "version": 3
   },
   "file_extension": ".py",
   "mimetype": "text/x-python",
   "name": "python",
   "nbconvert_exporter": "python",
   "pygments_lexer": "ipython3",
   "version": "3.11.4"
  }
 },
 "nbformat": 4,
 "nbformat_minor": 5
}
